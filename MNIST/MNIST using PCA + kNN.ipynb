{
 "cells": [
  {
   "cell_type": "code",
   "execution_count": 1,
   "metadata": {
    "colab": {},
    "colab_type": "code",
    "id": "cY139CTwO_Uh"
   },
   "outputs": [],
   "source": [
    "import numpy as np\n",
    "import pandas as pd\n",
    "\n",
    "import matplotlib.pyplot as plt\n",
    "import matplotlib\n",
    "%matplotlib inline\n",
    "plt.rcParams['figure.figsize'] = [16,8]\n",
    "\n",
    "from sklearn.decomposition import PCA\n",
    "from sklearn.neighbors import KNeighborsClassifier\n",
    "\n",
    "from sklearn.metrics import accuracy_score\n",
    "from sklearn.model_selection import train_test_split"
   ]
  },
  {
   "cell_type": "code",
   "execution_count": 3,
   "metadata": {
    "colab": {
     "base_uri": "https://localhost:8080/",
     "height": 34
    },
    "colab_type": "code",
    "executionInfo": {
     "elapsed": 9521,
     "status": "ok",
     "timestamp": 1537865466238,
     "user": {
      "displayName": "BAO ANH NGUYEN",
      "photoUrl": "",
      "userId": "00140891167184027256"
     },
     "user_tz": -120
    },
    "id": "gnE_ninnTgm8",
    "outputId": "aea9d1da-3d52-4d5a-b976-a853b8117441"
   },
   "outputs": [],
   "source": [
    "# for google Collab\n",
    "'''\n",
    "path = \"drive/Computers/Mon MacBook Air/ml-discover/MNIST\"\n",
    "train = pd.read_csv(path + \"/input/train.csv\")\n",
    "test = pd.read_csv(path + \"/input/test.csv\")\n",
    "'''\n",
    "'''\n",
    "# for kaggler submitsion\n",
    "train = pd.read_csv(\"../input/train.csv\")\n",
    "test = pd.read_csv(\"../input/test.csv\")\n",
    "'''\n",
    "# for my local machine\n",
    "train = pd.read_csv(\"input/train.csv\")\n",
    "test = pd.read_csv(\"input/test.csv\")"
   ]
  },
  {
   "cell_type": "code",
   "execution_count": 4,
   "metadata": {
    "colab": {
     "base_uri": "https://localhost:8080/",
     "height": 51
    },
    "colab_type": "code",
    "executionInfo": {
     "elapsed": 1066,
     "status": "ok",
     "timestamp": 1537865473835,
     "user": {
      "displayName": "BAO ANH NGUYEN",
      "photoUrl": "",
      "userId": "00140891167184027256"
     },
     "user_tz": -120
    },
    "id": "ZsA5gNiNqvZ6",
    "outputId": "d5f94946-8d87-4f41-af4c-4af99ae70f5a"
   },
   "outputs": [
    {
     "name": "stdout",
     "output_type": "stream",
     "text": [
      "(42000, 785)\n",
      "(28000, 784)\n"
     ]
    }
   ],
   "source": [
    "print(train.shape)\n",
    "print(test.shape)"
   ]
  },
  {
   "cell_type": "markdown",
   "metadata": {
    "colab_type": "text",
    "id": "YTmxKLq7q0mB"
   },
   "source": [
    "* Training set have one column that contains the target of model, where it should be retire on one dataframe seperated.\n",
    "* After do that, the training set and testing set have same shape.\n",
    "    \n",
    "\n",
    "\n",
    "\n"
   ]
  },
  {
   "cell_type": "code",
   "execution_count": 5,
   "metadata": {
    "colab": {},
    "colab_type": "code",
    "id": "HdzUgv21qof8"
   },
   "outputs": [],
   "source": [
    "target = train.iloc[:6000,:1]\n",
    "Xtrain = train.iloc[:6000,1:]\n",
    "Xtest = test.iloc[:2000,:]"
   ]
  },
  {
   "cell_type": "code",
   "execution_count": 6,
   "metadata": {
    "colab": {
     "base_uri": "https://localhost:8080/",
     "height": 119
    },
    "colab_type": "code",
    "executionInfo": {
     "elapsed": 2881,
     "status": "ok",
     "timestamp": 1537865481614,
     "user": {
      "displayName": "BAO ANH NGUYEN",
      "photoUrl": "",
      "userId": "00140891167184027256"
     },
     "user_tz": -120
    },
    "id": "MhLg4YL-p81U",
    "outputId": "aa19fe79-7cec-48a5-fda2-a55b2b925fdc"
   },
   "outputs": [
    {
     "name": "stdout",
     "output_type": "stream",
     "text": [
      "Before data cleaning processing: \n",
      "(6000, 784)\n",
      "(2000, 784)\n",
      "After data cleaning processing: \n",
      "(6000, 662)\n",
      "(2000, 662)\n"
     ]
    }
   ],
   "source": [
    "# Cleaning data\n",
    "# find in pattern of data if it have column that have constant value\n",
    "# in this case, this column have no any sense of training model and it cause the model slowly be train\n",
    "print(\"Before data cleaning processing: \")\n",
    "print(Xtrain.shape)\n",
    "print(Xtest.shape)\n",
    "\n",
    "def data_clean(data):\n",
    "    col_drop = []\n",
    "    for c in range(data.shape[1]):\n",
    "        if data.iloc[:,c].max() == data.iloc[:,c].min():\n",
    "            col_drop.append('pixel'+str(c))\n",
    "    cleaned = data.drop(col_drop, axis=1)\n",
    "    return cleaned\n",
    "\n",
    "Xtrain_cleaned = data_clean(Xtrain)\n",
    "column_droped_in_train = set(Xtest.columns).difference(set(Xtrain_cleaned.columns))\n",
    "Xtest_cleaned = Xtest.drop(column_droped_in_train, axis=1)\n",
    "\n",
    "print(\"After data cleaning processing: \")\n",
    "print(Xtrain_cleaned.shape)\n",
    "print(Xtest_cleaned.shape)"
   ]
  },
  {
   "cell_type": "code",
   "execution_count": 7,
   "metadata": {
    "colab": {},
    "colab_type": "code",
    "id": "vwLhc2BwRaaN"
   },
   "outputs": [],
   "source": [
    "# function to show the result of model\n",
    "def evaluate_model(clf, data, target, test_size):\n",
    "    X_train, X_val, y_train, y_val = train_test_split(data, target, test_size=test_size, random_state=42)\n",
    "    clf.fit(X_train, y_train.values.ravel())\n",
    "    y_pred = clf.predict(X_val)\n",
    "    scr = accuracy_score(y_val.values.ravel(), y_pred.ravel())\n",
    "    return scr"
   ]
  },
  {
   "cell_type": "code",
   "execution_count": 16,
   "metadata": {
    "colab": {},
    "colab_type": "code",
    "id": "woP2nmjTUl0d"
   },
   "outputs": [
    {
     "name": "stdout",
     "output_type": "stream",
     "text": [
      "74.25940999999997\n",
      "[0.93416667 0.92916667 0.94166667 0.93833333 0.93666667 0.935\n",
      " 0.915      0.88583333 0.84583333 0.7925    ]\n"
     ]
    }
   ],
   "source": [
    "n_neighbors_array = [1, 2, 3, 5, 7, 10, 20, 50, 100, 200]\n",
    "results_array_1 = np.zeros(len(n_neighbors_array))\n",
    "results_array_2 = np.zeros(len(n_neighbors_array))\n",
    "i = 0\n",
    "import time\n",
    "'''\n",
    "'''\n",
    "t1 = time.clock()\n",
    "for n_neighbors in n_neighbors_array:\n",
    "    clf = KNeighborsClassifier(n_neighbors=n_neighbors)\n",
    "    results_array_2[i] = evaluate_model(clf, Xtrain, target, 0.2)\n",
    "    i+=1\n",
    "t2 = time.clock()\n",
    "t = t2-t1\n",
    "print(t)\n",
    "print(results_array_2)"
   ]
  },
  {
   "cell_type": "code",
   "execution_count": 18,
   "metadata": {},
   "outputs": [
    {
     "name": "stdout",
     "output_type": "stream",
     "text": [
      "62.571162000000015\n",
      "[0.93416667 0.92916667 0.94166667 0.93833333 0.93666667 0.935\n",
      " 0.915      0.88583333 0.84583333 0.7925    ]\n"
     ]
    }
   ],
   "source": [
    "j = 0\n",
    "t1 = time.clock()\n",
    "for n_neighbors in n_neighbors_array:\n",
    "    clf = KNeighborsClassifier(n_neighbors=n_neighbors)\n",
    "    results_array_1[j] = evaluate_model(clf, Xtrain_cleaned, target, 0.2)\n",
    "    j+=1\n",
    "t2 = time.clock()\n",
    "t = t2-t1\n",
    "print(t)\n",
    "print(results_array_1)"
   ]
  },
  {
   "cell_type": "code",
   "execution_count": 14,
   "metadata": {},
   "outputs": [
    {
     "data": {
      "text/plain": [
       "149.679926"
      ]
     },
     "execution_count": 14,
     "metadata": {},
     "output_type": "execute_result"
    }
   ],
   "source": []
  },
  {
   "cell_type": "code",
   "execution_count": 9,
   "metadata": {
    "colab": {
     "base_uri": "https://localhost:8080/",
     "height": 164
    },
    "colab_type": "code",
    "executionInfo": {
     "elapsed": 1601,
     "status": "error",
     "timestamp": 1537864901812,
     "user": {
      "displayName": "BAO ANH NGUYEN",
      "photoUrl": "",
      "userId": "00140891167184027256"
     },
     "user_tz": -120
    },
    "id": "MfkK1n0gYN2f",
    "outputId": "aad341a0-be06-40f3-d173-63fef942bda5"
   },
   "outputs": [
    {
     "data": {
      "text/plain": [
       "array([0.93416667, 0.92916667, 0.94166667, 0.93833333, 0.93666667,\n",
       "       0.935     , 0.915     , 0.88583333, 0.84583333, 0.7925    ])"
      ]
     },
     "execution_count": 9,
     "metadata": {},
     "output_type": "execute_result"
    }
   ],
   "source": [
    "results_array"
   ]
  },
  {
   "cell_type": "code",
   "execution_count": 0,
   "metadata": {
    "colab": {},
    "colab_type": "code",
    "id": "TjjikIvqYPc3"
   },
   "outputs": [],
   "source": [
    "array([0.94166667, 0.93833333, 0.93666667, 0.935     , 0.915     ,\n",
    "       0.88583333, 0.84583333, 0.7925    , 0.71      ])"
   ]
  }
 ],
 "metadata": {
  "accelerator": "GPU",
  "colab": {
   "name": "MNIST using PCA + kNN.ipynb",
   "provenance": [],
   "toc_visible": true,
   "version": "0.3.2"
  },
  "kernelspec": {
   "display_name": "Python 3",
   "language": "python",
   "name": "python3"
  },
  "language_info": {
   "codemirror_mode": {
    "name": "ipython",
    "version": 3
   },
   "file_extension": ".py",
   "mimetype": "text/x-python",
   "name": "python",
   "nbconvert_exporter": "python",
   "pygments_lexer": "ipython3",
   "version": "3.6.4"
  }
 },
 "nbformat": 4,
 "nbformat_minor": 1
}
